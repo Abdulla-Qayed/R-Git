{
 "cells": [
  {
   "cell_type": "markdown",
   "id": "d9e267c1-f787-4f85-94e4-195e411e2f17",
   "metadata": {},
   "source": [
    "Data Science Tools and Ecosystem"
   ]
  },
  {
   "cell_type": "markdown",
   "id": "13367744-9b18-4067-9c11-6d6d2b760619",
   "metadata": {},
   "source": [
    "In this notebook, Data Science Tools and Ecosystem are summarized."
   ]
  },
  {
   "cell_type": "markdown",
   "id": "57cf8d79-ffeb-45a7-ad5e-6efebba696f9",
   "metadata": {},
   "source": [
    "**Objectives:**\n",
    "- [Python](#Python)<br>\n",
    "- [R](#R)<br>\n",
    "- [Java](#Java)<br>\n",
    "- [Oracle](#Oracle)<br>\n",
    "- [C++](#intro)<br>\n"
   ]
  },
  {
   "cell_type": "markdown",
   "id": "ac722c16-54eb-4cc4-b955-5038545aba9c",
   "metadata": {},
   "source": [
    "Some of the popular languages that Data Scientists use are:"
   ]
  },
  {
   "cell_type": "markdown",
   "id": "b33499ff-d785-4015-a76c-43f2878896a1",
   "metadata": {},
   "source": [
    "Some of the commonly used libraries used by Data Scientists include:\n",
    "    1- Matplotlib\n",
    "    2- Python\n",
    "    3- machine learning platform"
   ]
  },
  {
   "cell_type": "markdown",
   "id": "784f2054-680b-4f15-b97b-594dc598ea70",
   "metadata": {},
   "source": [
    "| Data Science Tools |\n",
    "| --- |\n",
    "| Matplotlib |\n",
    "| Python |\n",
    "| machine learning platform |"
   ]
  },
  {
   "cell_type": "markdown",
   "id": "45e5d040-af71-4eb2-8d76-e349ab25cb6c",
   "metadata": {},
   "source": [
    "### Below are a few examples of evaluating arithmetic expressions in Python"
   ]
  },
  {
   "cell_type": "code",
   "execution_count": 1,
   "id": "dd32f563-4bb5-436d-b288-ec0c47c96afb",
   "metadata": {},
   "outputs": [
    {
     "data": {
      "text/plain": [
       "17"
      ]
     },
     "execution_count": 1,
     "metadata": {},
     "output_type": "execute_result"
    }
   ],
   "source": [
    "# This a simple arithmetic expression to mutiply then add integers\n",
    "(3*4)+5"
   ]
  },
  {
   "cell_type": "code",
   "execution_count": 2,
   "id": "ceaf5736-05bb-41d5-bb2c-6ac32e1433fe",
   "metadata": {},
   "outputs": [
    {
     "name": "stdout",
     "output_type": "stream",
     "text": [
      "Hours= 3\n",
      "Minutes= 20\n"
     ]
    }
   ],
   "source": [
    "# This will convert 200 minutes to hours by diving by 60\n",
    "min=200\n",
    "h=min//60\n",
    "m=min%60\n",
    "print(\"Hours=\",h)\n",
    "print(\"Minutes=\",m)"
   ]
  },
  {
   "cell_type": "markdown",
   "id": "c834261f-b7df-4b0e-bec2-fa9329b235ea",
   "metadata": {},
   "source": [
    "## Author\n",
    "Abdullah Qayed"
   ]
  }
 ],
 "metadata": {
  "kernelspec": {
   "display_name": "Python",
   "language": "python",
   "name": "conda-env-python-py"
  },
  "language_info": {
   "codemirror_mode": {
    "name": "ipython",
    "version": 3
   },
   "file_extension": ".py",
   "mimetype": "text/x-python",
   "name": "python",
   "nbconvert_exporter": "python",
   "pygments_lexer": "ipython3",
   "version": "3.7.12"
  }
 },
 "nbformat": 4,
 "nbformat_minor": 5
}
